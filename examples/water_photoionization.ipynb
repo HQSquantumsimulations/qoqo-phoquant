{
 "cells": [
  {
   "cell_type": "code",
   "execution_count": 1,
   "metadata": {},
   "outputs": [
    {
     "name": "stderr",
     "output_type": "stream",
     "text": [
      "2024-03-01 14:52:55.249770: I tensorflow/core/util/port.cc:113] oneDNN custom operations are on. You may see slightly different numerical results due to floating-point round-off errors from different computation orders. To turn them off, set the environment variable `TF_ENABLE_ONEDNN_OPTS=0`.\n",
      "2024-03-01 14:52:55.251880: I external/local_tsl/tsl/cuda/cudart_stub.cc:31] Could not find cuda drivers on your machine, GPU will not be used.\n",
      "2024-03-01 14:52:55.278827: E external/local_xla/xla/stream_executor/cuda/cuda_dnn.cc:9261] Unable to register cuDNN factory: Attempting to register factory for plugin cuDNN when one has already been registered\n",
      "2024-03-01 14:52:55.278852: E external/local_xla/xla/stream_executor/cuda/cuda_fft.cc:607] Unable to register cuFFT factory: Attempting to register factory for plugin cuFFT when one has already been registered\n",
      "2024-03-01 14:52:55.279657: E external/local_xla/xla/stream_executor/cuda/cuda_blas.cc:1515] Unable to register cuBLAS factory: Attempting to register factory for plugin cuBLAS when one has already been registered\n",
      "2024-03-01 14:52:55.284323: I external/local_tsl/tsl/cuda/cudart_stub.cc:31] Could not find cuda drivers on your machine, GPU will not be used.\n",
      "2024-03-01 14:52:55.284700: I tensorflow/core/platform/cpu_feature_guard.cc:182] This TensorFlow binary is optimized to use available CPU instructions in performance-critical operations.\n",
      "To enable the following instructions: AVX2 AVX512F AVX512_VNNI FMA, in other operations, rebuild TensorFlow with the appropriate compiler flags.\n",
      "2024-03-01 14:52:55.891455: W tensorflow/compiler/tf2tensorrt/utils/py_utils.cc:38] TF-TRT Warning: Could not find TensorRT\n"
     ]
    }
   ],
   "source": [
    "from qoqo_strawberry_fields import StrawberryFieldsBackend\n",
    "from qoqo import operations, Circuit\n",
    "import numpy as np\n",
    "import matplotlib.pyplot as plt\n",
    "from qoqo_phoquant import unitary_to_ops\n",
    "from qoqo_phoquant import molecule as mol\n",
    "from qoqo_phoquant import spectrum_helpers as sh"
   ]
  },
  {
   "cell_type": "markdown",
   "metadata": {},
   "source": [
    "Load chemistry data and make a \"molecule\""
   ]
  },
  {
   "cell_type": "code",
   "execution_count": 2,
   "metadata": {},
   "outputs": [],
   "source": [
    "h2o = mol('../src/data/H2O_ion.json')"
   ]
  },
  {
   "cell_type": "markdown",
   "metadata": {},
   "source": [
    "Decompose interferometers into elementary operations"
   ]
  },
  {
   "cell_type": "code",
   "execution_count": 4,
   "metadata": {},
   "outputs": [
    {
     "name": "stdout",
     "output_type": "stream",
     "text": [
      "The interferometer matrix is unitary\n",
      "3\n",
      "[[-6.66909869e-01  4.64601273e-18 -7.45138394e-01]\n",
      " [ 7.45138394e-01 -7.26592981e-17 -6.66909869e-01]\n",
      " [ 5.72397044e-17  1.00000000e+00 -4.49952805e-17]]\n",
      "PhaseShift { mode: 0, phase: Float(3.141592653589793) }\n",
      "PhaseShift { mode: 1, phase: Float(3.141592653589793) }\n",
      "PhaseShift { mode: 2, phase: Float(3.141592653589793) }\n",
      "BeamSplitter { mode_0: 1, mode_1: 2, theta: Float(-1.5707963267948966), phi: Float(0.0) }\n",
      "BeamSplitter { mode_0: 0, mode_1: 1, theta: Float(-0.8407423328877764), phi: Float(0.0) }\n"
     ]
    }
   ],
   "source": [
    "ops1 = unitary_to_ops(h2o.U1)"
   ]
  },
  {
   "cell_type": "code",
   "execution_count": 5,
   "metadata": {},
   "outputs": [
    {
     "name": "stdout",
     "output_type": "stream",
     "text": [
      "The interferometer matrix is unitary\n",
      "3\n",
      "[[-6.95581677e-01  7.18447027e-01 -7.04076637e-17]\n",
      " [-0.00000000e+00 -9.79997982e-17 -1.00000000e+00]\n",
      " [-7.18447027e-01 -6.95581677e-01  6.81668639e-17]]\n",
      "BeamSplitter { mode_0: 0, mode_1: 1, theta: Float(0.8015671126079235), phi: Float(0.0) }\n",
      "PhaseShift { mode: 0, phase: Float(3.141592653589793) }\n",
      "BeamSplitter { mode_0: 1, mode_1: 2, theta: Float(-1.5707963267948966), phi: Float(0.0) }\n",
      "PhaseShift { mode: 1, phase: Float(3.141592653589793) }\n"
     ]
    }
   ],
   "source": [
    "ops2 = unitary_to_ops(h2o.U2)"
   ]
  },
  {
   "cell_type": "markdown",
   "metadata": {},
   "source": [
    "Perform GBS sampling"
   ]
  },
  {
   "cell_type": "code",
   "execution_count": null,
   "metadata": {},
   "outputs": [],
   "source": [
    "# Sample\n",
    "nshots = 1000\n",
    "cir, sam = sh.mol_GBS(squeezing=h2o.s, displ=h2o.alpha, ops1=ops1, ops2=ops2, shots=nshots)"
   ]
  },
  {
   "cell_type": "markdown",
   "metadata": {},
   "source": [
    "Save circuit as .yaml"
   ]
  },
  {
   "cell_type": "code",
   "execution_count": null,
   "metadata": {},
   "outputs": [],
   "source": [
    "sh.save_circuit(circuit=cir, name=\"H2O_ion_cir\")"
   ]
  },
  {
   "cell_type": "markdown",
   "metadata": {},
   "source": [
    "Convert samples to energies"
   ]
  },
  {
   "cell_type": "code",
   "execution_count": null,
   "metadata": {},
   "outputs": [],
   "source": [
    "ener = sh.energy_for_samples(sam, h2o.freq_ini, h2o.freq_fin, h2o.E_vertical)"
   ]
  },
  {
   "cell_type": "markdown",
   "metadata": {},
   "source": [
    "Plot the spectrum as histogram"
   ]
  },
  {
   "cell_type": "code",
   "execution_count": 28,
   "metadata": {},
   "outputs": [
    {
     "data": {
      "text/plain": [
       "(array([829.,   0.,   0.,   0.,   0.,   0.,   0.,   0.,   0.,   0.,   0.,\n",
       "          0.,   0.,   0.,  40.,   0.,   0.,   0.,   0.,   0.,   0.,   0.,\n",
       "          0.,   0.,   0.,   0.,   0.,   0.,   0.,   0.,   0.,   0., 121.,\n",
       "          0.,   0.,   0.,   0.,   0.,   0.,   0.,   0.,   0.,   0.,   0.,\n",
       "          0.,   0.,   0.,   4.,   0.,   0.,   0.,   0.,   0.,   0.,   0.,\n",
       "          0.,   0.,   0.,   0.,   0.,   0.,   0.,   0.,   0.,   0.,   3.,\n",
       "          0.,   1.,   0.,   0.,   0.,   0.,   0.,   0.,   0.,   0.,   0.,\n",
       "          0.,   0.,   0.,   0.,   0.,   0.,   0.,   0.,   0.,   0.,   0.,\n",
       "          0.,   0.,   0.,   0.,   0.,   0.,   0.,   0.,   0.,   0.,   0.,\n",
       "          2.]),\n",
       " array([-572.155 , -474.5287, -376.9024, -279.2761, -181.6498,  -84.0235,\n",
       "          13.6028,  111.2291,  208.8554,  306.4817,  404.108 ,  501.7343,\n",
       "         599.3606,  696.9869,  794.6132,  892.2395,  989.8658, 1087.4921,\n",
       "        1185.1184, 1282.7447, 1380.371 , 1477.9973, 1575.6236, 1673.2499,\n",
       "        1770.8762, 1868.5025, 1966.1288, 2063.7551, 2161.3814, 2259.0077,\n",
       "        2356.634 , 2454.2603, 2551.8866, 2649.5129, 2747.1392, 2844.7655,\n",
       "        2942.3918, 3040.0181, 3137.6444, 3235.2707, 3332.897 , 3430.5233,\n",
       "        3528.1496, 3625.7759, 3723.4022, 3821.0285, 3918.6548, 4016.2811,\n",
       "        4113.9074, 4211.5337, 4309.16  , 4406.7863, 4504.4126, 4602.0389,\n",
       "        4699.6652, 4797.2915, 4894.9178, 4992.5441, 5090.1704, 5187.7967,\n",
       "        5285.423 , 5383.0493, 5480.6756, 5578.3019, 5675.9282, 5773.5545,\n",
       "        5871.1808, 5968.8071, 6066.4334, 6164.0597, 6261.686 , 6359.3123,\n",
       "        6456.9386, 6554.5649, 6652.1912, 6749.8175, 6847.4438, 6945.0701,\n",
       "        7042.6964, 7140.3227, 7237.949 , 7335.5753, 7433.2016, 7530.8279,\n",
       "        7628.4542, 7726.0805, 7823.7068, 7921.3331, 8018.9594, 8116.5857,\n",
       "        8214.212 , 8311.8383, 8409.4646, 8507.0909, 8604.7172, 8702.3435,\n",
       "        8799.9698, 8897.5961, 8995.2224, 9092.8487, 9190.475 ]),\n",
       " <BarContainer object of 100 artists>)"
      ]
     },
     "execution_count": 28,
     "metadata": {},
     "output_type": "execute_result"
    },
    {
     "data": {
      "image/png": "[encoded data removed]",
      "text/plain": [
       "<Figure size 640x480 with 1 Axes>"
      ]
     },
     "metadata": {},
     "output_type": "display_data"
    }
   ],
   "source": [
    "# Plot\n",
    "n_bins = 100\n",
    "plt.xlim(-700,6000)\n",
    "plt.hist(ener, bins=n_bins)"
   ]
  }
 ],
 "metadata": {
  "kernelspec": {
   "display_name": "FCF",
   "language": "python",
   "name": "python3"
  },
  "language_info": {
   "codemirror_mode": {
    "name": "ipython",
    "version": 3
   },
   "file_extension": ".py",
   "mimetype": "text/x-python",
   "name": "python",
   "nbconvert_exporter": "python",
   "pygments_lexer": "ipython3",
   "version": "3.10.13"
  }
 },
 "nbformat": 4,
 "nbformat_minor": 2
}
